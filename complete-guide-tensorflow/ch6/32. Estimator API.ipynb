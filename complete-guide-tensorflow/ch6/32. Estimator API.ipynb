{
 "cells": [
  {
   "cell_type": "markdown",
   "metadata": {},
   "source": [
    "The Estimator API is usefull for basic modeling tasks (basic regressions, classifiers, simple DNNs)\n",
    "\n",
    "In general, to use this API we have to do the following\n",
    "    1. Define a list of feature columns\n",
    "    2. Create the estimator model\n",
    "    3. Create the data input function\n",
    "    4. Train, evaluate, and predict"
   ]
  },
  {
   "cell_type": "code",
   "execution_count": 6,
   "metadata": {},
   "outputs": [],
   "source": [
    "import tensorflow as tf\n",
    "import numpy as np\n",
    "\n",
    "from sklearn.model_selection import train_test_split"
   ]
  },
  {
   "cell_type": "code",
   "execution_count": 15,
   "metadata": {},
   "outputs": [],
   "source": [
    "x_data = np.linspace(0, 10, 100000)\n",
    "delta = np.random.randn(len(x_data))\n",
    "\n",
    "y_true = 1/2 * x_data + 5 + delta"
   ]
  },
  {
   "cell_type": "code",
   "execution_count": 16,
   "metadata": {},
   "outputs": [],
   "source": [
    "feature_cols = [tf.feature_column.numeric_column('x', shape=[1])]"
   ]
  },
  {
   "cell_type": "code",
   "execution_count": 17,
   "metadata": {},
   "outputs": [
    {
     "name": "stdout",
     "output_type": "stream",
     "text": [
      "INFO:tensorflow:Using default config.\n",
      "WARNING:tensorflow:Using temporary folder as model directory: /tmp/tmpbj3ol59r\n",
      "INFO:tensorflow:Using config: {'_model_dir': '/tmp/tmpbj3ol59r', '_tf_random_seed': None, '_save_summary_steps': 100, '_save_checkpoints_steps': None, '_save_checkpoints_secs': 600, '_session_config': allow_soft_placement: true\n",
      "graph_options {\n",
      "  rewrite_options {\n",
      "    meta_optimizer_iterations: ONE\n",
      "  }\n",
      "}\n",
      ", '_keep_checkpoint_max': 5, '_keep_checkpoint_every_n_hours': 10000, '_log_step_count_steps': 100, '_train_distribute': None, '_device_fn': None, '_protocol': None, '_eval_distribute': None, '_experimental_distribute': None, '_service': None, '_cluster_spec': <tensorflow.python.training.server_lib.ClusterSpec object at 0x7f5aaadf56d8>, '_task_type': 'worker', '_task_id': 0, '_global_id_in_cluster': 0, '_master': '', '_evaluation_master': '', '_is_chief': True, '_num_ps_replicas': 0, '_num_worker_replicas': 1}\n"
     ]
    }
   ],
   "source": [
    "estimator = tf.estimator.LinearRegressor(feature_columns=feature_cols)"
   ]
  },
  {
   "cell_type": "code",
   "execution_count": 18,
   "metadata": {},
   "outputs": [],
   "source": [
    "x_train, x_test, y_train, y_test = train_test_split(x_data, y_true, test_size=0.3)"
   ]
  },
  {
   "cell_type": "code",
   "execution_count": 21,
   "metadata": {},
   "outputs": [],
   "source": [
    "input_function = tf.estimator.inputs.numpy_input_fn({'x': x_train}, y_train, batch_size=8, num_epochs=None, \n",
    "                                                    shuffle=True)\n",
    "\n",
    "train_function = tf.estimator.inputs.numpy_input_fn({'x': x_train}, y_train, batch_size=8, num_epochs=1000, \n",
    "                                                    shuffle=False)\n",
    "\n",
    "test_function = tf.estimator.inputs.numpy_input_fn({'x': x_train}, y_train, batch_size=8, num_epochs=1000, \n",
    "                                                    shuffle=False)"
   ]
  },
  {
   "cell_type": "code",
   "execution_count": 20,
   "metadata": {},
   "outputs": [
    {
     "name": "stdout",
     "output_type": "stream",
     "text": [
      "INFO:tensorflow:Calling model_fn.\n",
      "INFO:tensorflow:Done calling model_fn.\n",
      "INFO:tensorflow:Create CheckpointSaverHook.\n",
      "INFO:tensorflow:Graph was finalized.\n",
      "INFO:tensorflow:Running local_init_op.\n",
      "INFO:tensorflow:Done running local_init_op.\n",
      "INFO:tensorflow:Saving checkpoints for 0 into /tmp/tmpbj3ol59r/model.ckpt.\n",
      "INFO:tensorflow:loss = 582.04254, step = 1\n",
      "INFO:tensorflow:global_step/sec: 1080.07\n",
      "INFO:tensorflow:loss = 21.319345, step = 101 (0.094 sec)\n",
      "INFO:tensorflow:global_step/sec: 1037.55\n",
      "INFO:tensorflow:loss = 10.752017, step = 201 (0.096 sec)\n",
      "INFO:tensorflow:global_step/sec: 958.893\n",
      "INFO:tensorflow:loss = 14.083935, step = 301 (0.104 sec)\n",
      "INFO:tensorflow:global_step/sec: 968.599\n",
      "INFO:tensorflow:loss = 16.79264, step = 401 (0.107 sec)\n",
      "INFO:tensorflow:global_step/sec: 856.577\n",
      "INFO:tensorflow:loss = 4.73441, step = 501 (0.114 sec)\n",
      "INFO:tensorflow:global_step/sec: 926.063\n",
      "INFO:tensorflow:loss = 5.051048, step = 601 (0.108 sec)\n",
      "INFO:tensorflow:global_step/sec: 946.133\n",
      "INFO:tensorflow:loss = 7.250336, step = 701 (0.105 sec)\n",
      "INFO:tensorflow:global_step/sec: 1018.7\n",
      "INFO:tensorflow:loss = 2.4138575, step = 801 (0.097 sec)\n",
      "INFO:tensorflow:global_step/sec: 1003.4\n",
      "INFO:tensorflow:loss = 10.15641, step = 901 (0.101 sec)\n",
      "INFO:tensorflow:Saving checkpoints for 1000 into /tmp/tmpbj3ol59r/model.ckpt.\n",
      "INFO:tensorflow:Loss for final step: 6.8101554.\n"
     ]
    },
    {
     "data": {
      "text/plain": [
       "<tensorflow.python.estimator.canned.linear.LinearRegressor at 0x7f5a9852dcc0>"
      ]
     },
     "execution_count": 20,
     "metadata": {},
     "output_type": "execute_result"
    }
   ],
   "source": [
    "estimator.train(input_fn=input_function, steps=1000)"
   ]
  },
  {
   "cell_type": "code",
   "execution_count": 22,
   "metadata": {},
   "outputs": [
    {
     "name": "stdout",
     "output_type": "stream",
     "text": [
      "INFO:tensorflow:Calling model_fn.\n",
      "INFO:tensorflow:Done calling model_fn.\n",
      "INFO:tensorflow:Starting evaluation at 2019-01-13-05:57:27\n",
      "INFO:tensorflow:Graph was finalized.\n",
      "INFO:tensorflow:Restoring parameters from /tmp/tmpbj3ol59r/model.ckpt-1000\n",
      "INFO:tensorflow:Running local_init_op.\n",
      "INFO:tensorflow:Done running local_init_op.\n",
      "INFO:tensorflow:Evaluation [100/1000]\n",
      "INFO:tensorflow:Evaluation [200/1000]\n",
      "INFO:tensorflow:Evaluation [300/1000]\n",
      "INFO:tensorflow:Evaluation [400/1000]\n",
      "INFO:tensorflow:Evaluation [500/1000]\n",
      "INFO:tensorflow:Evaluation [600/1000]\n",
      "INFO:tensorflow:Evaluation [700/1000]\n",
      "INFO:tensorflow:Evaluation [800/1000]\n",
      "INFO:tensorflow:Evaluation [900/1000]\n",
      "INFO:tensorflow:Evaluation [1000/1000]\n",
      "INFO:tensorflow:Finished evaluation at 2019-01-13-05:57:28\n",
      "INFO:tensorflow:Saving dict for global step 1000: average_loss = 1.0889647, global_step = 1000, label/mean = 7.4970326, loss = 8.711718, prediction/mean = 7.373784\n",
      "INFO:tensorflow:Saving 'checkpoint_path' summary for global step 1000: /tmp/tmpbj3ol59r/model.ckpt-1000\n"
     ]
    }
   ],
   "source": [
    "train_metrics = estimator.evaluate(input_fn=train_function, steps=1000)"
   ]
  },
  {
   "cell_type": "code",
   "execution_count": null,
   "metadata": {},
   "outputs": [],
   "source": []
  }
 ],
 "metadata": {
  "kernelspec": {
   "display_name": "Python 3",
   "language": "python",
   "name": "python3"
  },
  "language_info": {
   "codemirror_mode": {
    "name": "ipython",
    "version": 3
   },
   "file_extension": ".py",
   "mimetype": "text/x-python",
   "name": "python",
   "nbconvert_exporter": "python",
   "pygments_lexer": "ipython3",
   "version": "3.6.8"
  }
 },
 "nbformat": 4,
 "nbformat_minor": 2
}
