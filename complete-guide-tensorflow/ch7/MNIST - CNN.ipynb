{
 "cells": [
  {
   "cell_type": "markdown",
   "metadata": {},
   "source": [
    "# MNIST - CNN"
   ]
  },
  {
   "cell_type": "code",
   "execution_count": 2,
   "metadata": {},
   "outputs": [],
   "source": [
    "import tensorflow as tf\n",
    "from tensorflow.examples.tutorials.mnist import input_data"
   ]
  },
  {
   "cell_type": "code",
   "execution_count": 3,
   "metadata": {},
   "outputs": [],
   "source": [
    "mnist = tf.keras.datasets.mnist\n",
    "(train_images, train_labels), (test_images, test_labels) = mnist.load_data()"
   ]
  },
  {
   "cell_type": "code",
   "execution_count": 4,
   "metadata": {},
   "outputs": [],
   "source": [
    "## Init Weights\n",
    "def init_weights(shape):\n",
    "    init_weight_vals = tf.truncated_normal(shape, stddev=0.1)\n",
    "    return tf.Variable(init_weights)\n",
    "\n",
    "## Init Bias\n",
    "def init_bias(shape):\n",
    "    init_bais_vals = tf.constant(0.1, shape=shape)\n",
    "    return tf.Variable(init_bais_vals)\n",
    "\n",
    "## 2D Convolution\n",
    "def conv2d(x, W):\n",
    "    \"\"\"\n",
    "    Args:\n",
    "        x (tensor): Input tensor \n",
    "            Shape of tensor must be (bactch, H, W, Channels) where channels\n",
    "            is the amount of color channels\n",
    "        W (tensor): Weights tensor\n",
    "            Shape of tensor must be (filter H, filter W, Channels In, \n",
    "            Channels Out)\n",
    "    \"\"\"\n",
    "    return tf.nn.conv2d(x, W, strides=[1,1,1,1], padding='SAME')\n",
    "\n",
    "## Pooling Layer\n",
    "def max_pool_2by2(x):\n",
    "    \"\"\"Pools along Hight and Width, 2 by 2\n",
    "    Args:\n",
    "        x (tensor): Input tensor\n",
    "            Shape of tensor must be (batch, H, W, Chnnels)\n",
    "    \"\"\"\n",
    "    # [1,2,2,1] means don't pool along batch and channels, 2 by 2 along hight/width\n",
    "    return tf.nn.max_pool(x, ksize=[1,2,2,1], strides=[1,2,2,1], padding='SAME')\n",
    "\n",
    "## Convolution Layer\n",
    "def convolutional_layer(input_x, shape):\n",
    "    W = init_weights(shape)\n",
    "    b = init_bias([shape[3]])\n",
    "    return tf.nn.relu(conv2d(input_x, W) + b)\n",
    "\n",
    "## Fully Connected Layer\n",
    "def full_connect_layer(input_layer, size):\n",
    "    input_size = int(input_layer.get_shape()[1])\n",
    "    W = init_weights([input_size, size])\n",
    "    b = init_bias([size])\n",
    "    return tf.matmul(input_layer, W) + b"
   ]
  },
  {
   "cell_type": "code",
   "execution_count": 5,
   "metadata": {},
   "outputs": [],
   "source": [
    "## Placeholders\n",
    "x = tf.placeholder(tf.float32, shape=[None, 784])\n",
    "y_true = tf.placeholder(tf.float32, shape=[None, 10])"
   ]
  },
  {
   "cell_type": "code",
   "execution_count": null,
   "metadata": {},
   "outputs": [],
   "source": [
    "## Layers\n",
    "x_image = tf.reshape(x, [-1, 28, 28, 1]) # Reshapes flat image to square image\n",
    "convo_1 = convolutional_layer(x_image, shape=[5,5,1,32]) #(Patch Size), Input channels, num features\n",
    "convo_1_pool = max_pool_2by2(convo_1)\n",
    "\n",
    "convo_2 = convolutional_layer(convo_1_pool, [5,5,1,64])\n",
    "convo_2_pool = max_pool_2by2(convo_2_pool)\n",
    "\n",
    "convo_2_flat = tf.reshape(convo_2_pool, [-1, 7*7*64])\n",
    "full_layer_on = tf.nn.relu(full_connect_layer(convo_2_pool))"
   ]
  }
 ],
 "metadata": {
  "kernelspec": {
   "display_name": "Python 3",
   "language": "python",
   "name": "python3"
  },
  "language_info": {
   "codemirror_mode": {
    "name": "ipython",
    "version": 3
   },
   "file_extension": ".py",
   "mimetype": "text/x-python",
   "name": "python",
   "nbconvert_exporter": "python",
   "pygments_lexer": "ipython3",
   "version": "3.5.6"
  }
 },
 "nbformat": 4,
 "nbformat_minor": 2
}
